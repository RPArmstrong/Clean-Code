{
 "cells": [
  {
   "cell_type": "code",
   "execution_count": 87,
   "id": "a56d5b24-f1f7-4ef7-90e3-ef493466a428",
   "metadata": {},
   "outputs": [],
   "source": [
    "import numpy as np\n",
    "from numpy import round\n",
    "import pandas as pd\n",
    "import sys\n",
    "import os\n",
    "from datetime import datetime\n",
    "import openpyxl\n",
    "from openpyxl import load_workbook\n",
    "import numpy as np\n",
    "import pandas as pd\n",
    "import sys\n",
    "import os\n",
    "import xlwings as xw\n",
    "from datetime import date, timedelta\n",
    "pd.set_option('display.max_columns', None)\n",
    "pd.set_option('display.max_rows', None)\n",
    "import xlsxwriter\n",
    "import openpyxl\n",
    "from pathlib import Path"
   ]
  },
  {
   "cell_type": "code",
   "execution_count": 100,
   "id": "9bfbd16b-28f9-4467-a85a-7a5c60afa222",
   "metadata": {},
   "outputs": [
    {
     "name": "stdout",
     "output_type": "stream",
     "text": [
      "['JULY2019MR', 'AUGUST2019MR', 'SEPTEMBER2019MR', 'OCTOBER2019MR', 'NOVEMBER2019MR', 'DECEMBER2019MR', 'JANUARY2020MR', 'FEBRUARY2020MR', 'MARCH2020MR', 'APRIL2020MR', 'MAY2020MR', 'JUNE2020MR']\n",
      "JULY2019MR.xlsx\n",
      "AUGUST2019MR.xlsx\n",
      "SEPTEMBER2019MR.xlsx\n",
      "OCTOBER2019MR.xlsx\n",
      "NOVEMBER2019MR.xlsx\n",
      "DECEMBER2019MR.xlsx\n",
      "JANUARY2020MR.xlsx\n",
      "FEBRUARY2020MR.xlsx\n",
      "MARCH2020MR.xlsx\n",
      "APRIL2020MR.xlsx\n",
      "MAY2020MR.xlsx\n",
      "JUNE2020MR.xlsx\n"
     ]
    }
   ],
   "source": [
    "#os.chdir(r\"V:\\Facilities Operations\\UTILITIES METER READINGS\\Utilreadings\\UTILITIES 2021\")\n",
    "#BookNames=[\"JULY2020MR\",\"AUGUST2020MR\",\"SEPTEMBER2020MR\",\"OCTOBER2020MR\",\"NOVEMBER2020MR\",\"DECEMBER2020MR\",\"JANUARY2021MR\",\"FEBRUARY2021MR\",\"MARCH2021MR\",\"APRIL2021MR\",\"MAY2021MR\",\"JUNE2021MR\"]\n",
    "os.chdir(r\"V:\\Facilities Operations\\UTILITIES METER READINGS\\Utilreadings\\UTILITIES 2020\")\n",
    "BookNames=[\"JULY2019MR\",\"AUGUST2019MR\",\"SEPTEMBER2019MR\",\"OCTOBER2019MR\",\"NOVEMBER2019MR\",\"DECEMBER2019MR\",\"JANUARY2020MR\",\"FEBRUARY2020MR\",\"MARCH2020MR\",\"APRIL2020MR\",\"MAY2020MR\",\"JUNE2020MR\"]\n",
    "BookNames\n",
    "\n",
    "n = 12\n",
    "m = 12\n",
    "\n",
    "print(BookNames)\n",
    "rindex=[\"MRC/STRAMANIS-JAMES HALL\",\"ELECTRICAL ENG\",\"MATH-COMPUTER\",\"CASTLEMAN HALL\",\"POWER PLANT SMALL\",\"CHEMISTRY\",\"BERTELSMEYER HALL\",\"MCNUTT HALL\",\"CIVIL\",\"HAVENER CENTER\",\"TOOMEY HALL\",\"GALE-BULLMAN GEOTHERM\"]\n",
    "mu= [[0] * m] * n\n",
    "#mu=pd.DataFrame(mu)\n",
    "bd= [[0] * (m)] * n\n",
    "#bd=pd.DataFrame(bd)\n",
    "diff= [[0] * (m)] * n\n",
    "#diff=pd.DataFrame(diff)\n",
    "\n",
    "j=0\n",
    "for i in range (12):\n",
    "    bookname=BookNames[i]\n",
    "    bookname=bookname+\".xlsx\"\n",
    "    print(bookname)\n",
    "    meter_reading=pd.read_excel(bookname,sheet_name=\"BLOWDOWN\",header=1)\n",
    "    mu[j]=meter_reading.iloc[0:12,3]\n",
    "    bd[j]=meter_reading.iloc[0:11,6]\n",
    "    diff[j]=meter_reading.iloc[0:11,8]\n",
    "    j+=1\n",
    "    \n",
    "mu=np.array(mu,dtype=float)\n",
    "bd=np.array(bd,dtype=float)\n",
    "diff=np.array(diff,dtype=float)\n",
    "\n",
    "bd\n",
    "\n",
    "bldgs=[\"MRC/STRAMANIS-JAMES HALL\",\"ELECTRICAL ENG\",\"MATH-COMPUTER\",\"CASTLEMAN HALL\",\"POWER PLANT SMALL\",\"CHEMISTRY\",\"BERTELSMEYER HALL\",\"MCNUTT HALL\",\"CIVIL\",\"HAVENER CENTER\",\"TOOMEY HALL\",\"GALE-BULLMAN GEOTHERM\"]\n",
    "df_mu=pd.DataFrame(mu.T, columns=BookNames, index=bldgs)\n",
    "bldgs=[\"MRC/STRAMANIS-JAMES HALL\",\"ELECTRICAL ENG\",\"MATH-COMPUTER\",\"CASTLEMAN HALL\",\"POWER PLANT SMALL\",\"CHEMISTRY\",\"BERTELSMEYER HALL\",\"MCNUTT HALL\",\"CIVIL\",\"HAVENER CENTER\",\"TOOMEY HALL\"]\n",
    "df_bd=pd.DataFrame(bd.T, columns=BookNames, index=bldgs)\n",
    "df_diff=pd.DataFrame(diff.T, columns=BookNames, index=bldgs)\n",
    "\n",
    "df_diff\n",
    "\n",
    "df_mu[0,15]=df_mu.sum(axis=1)\n",
    "df_bd[0,15]=df_bd.sum(axis=1)\n",
    "df_diff[0,15]=df_diff.sum(axis=1)\n",
    "\n",
    "\n",
    "output_path = Path(r\"C:\\Users\\rpan92\\Documents\\GitHub\\2022_Working_Directory\\Tower Makeup\")\n",
    "with pd.ExcelWriter(output_path/\"output2.xlsx\") as writer:\n",
    "    df_mu.to_excel(writer, sheet_name='Sheet_1')\n",
    "    df_bd.to_excel(writer, sheet_name='Sheet_2')\n",
    "    df_diff.to_excel(writer, sheet_name='Sheet_3')\n",
    "    \n",
    "    \n",
    "#with pd.ExcelWriter(r\"C:\\Users\\rpan92\\Documents\\GitHub\\2022_Working_Directory\\Tower Makeup\\output2.xlsx\") as writer:"
   ]
  },
  {
   "cell_type": "code",
   "execution_count": null,
   "id": "40491ed7-1455-4699-abf5-6d0807361d10",
   "metadata": {},
   "outputs": [],
   "source": []
  },
  {
   "cell_type": "code",
   "execution_count": 109,
   "id": "4bfa1bee-0083-4717-ac65-68f104e8c18c",
   "metadata": {},
   "outputs": [],
   "source": [
    "#os.chdir(r\"V:\\Facilities Operations\\UTILITIES METER READINGS\\Utilreadings\\UTILITIES 2021\")\n",
    "#BookNames=[\"JULY2020MR\",\"AUGUST2020MR\",\"SEPTEMBER2020MR\",\"OCTOBER2020MR\",\"NOVEMBER2020MR\",\"DECEMBER2020MR\",\"JANUARY2021MR\",\"FEBRUARY2021MR\",\"MARCH2021MR\",\"APRIL2021MR\",\"MAY2021MR\",\"JUNE2021MR\"]\n",
    "os.chdir(r\"V:\\Facilities Operations\\UTILITIES METER READINGS\\Utilreadings\\UTILITIES 2020\")\n",
    "BookNames=[\"JULY2019MR\",\"AUGUST2019MR\",\"SEPTEMBER2019MR\",\"OCTOBER2019MR\",\"NOVEMBER2019MR\",\"DECEMBER2019MR\",\"JANUARY2020MR\",\"FEBRUARY2020MR\",\"MARCH2020MR\",\"APRIL2020MR\",\"MAY2020MR\",\"JUNE2020MR\"]\n",
    "BookNames\n",
    "\n",
    "m=4\n",
    "n=12\n",
    "\n",
    "softwater=diff= [[0] * m] * n\n",
    "#softwater=pd.DataFrame(softwater)\n"
   ]
  },
  {
   "cell_type": "code",
   "execution_count": 110,
   "id": "6426e1ea-a4bb-47c7-9e25-1d0f3e00b8b6",
   "metadata": {},
   "outputs": [
    {
     "name": "stdout",
     "output_type": "stream",
     "text": [
      "JULY2019MR.xlsx\n",
      "AUGUST2019MR.xlsx\n",
      "SEPTEMBER2019MR.xlsx\n",
      "OCTOBER2019MR.xlsx\n",
      "NOVEMBER2019MR.xlsx\n",
      "DECEMBER2019MR.xlsx\n",
      "JANUARY2020MR.xlsx\n",
      "FEBRUARY2020MR.xlsx\n",
      "MARCH2020MR.xlsx\n",
      "APRIL2020MR.xlsx\n",
      "MAY2020MR.xlsx\n",
      "JUNE2020MR.xlsx\n"
     ]
    }
   ],
   "source": [
    "j=0\n",
    "for i in range (12):\n",
    "    bookname=BookNames[i]\n",
    "    bookname=bookname+\".xlsx\"\n",
    "    print(bookname)\n",
    "    soft_skid_reading=pd.read_excel(bookname,sheet_name=\"UTILITY WORKSHEET\",header=None,index_col=0)\n",
    "    softwater[j]=soft_skid_reading.loc[[\"MCNUTT GEO SOFT A\",\"MCNUTT GEO SOFT B\",\"MCNUTT GEO SOFT C\",\"MCNUTT GEO SOFT D\"],11]\n",
    "    j+=1  \n",
    "softwater=np.array(softwater,dtype=float)\n",
    "df_softwater=pd.DataFrame(softwater.T, columns=BookNames)"
   ]
  },
  {
   "cell_type": "code",
   "execution_count": 105,
   "id": "f6323ad9-ae14-4ee8-a68e-1600f802c3f9",
   "metadata": {},
   "outputs": [
    {
     "data": {
      "text/html": [
       "<div>\n",
       "<style scoped>\n",
       "    .dataframe tbody tr th:only-of-type {\n",
       "        vertical-align: middle;\n",
       "    }\n",
       "\n",
       "    .dataframe tbody tr th {\n",
       "        vertical-align: top;\n",
       "    }\n",
       "\n",
       "    .dataframe thead th {\n",
       "        text-align: right;\n",
       "    }\n",
       "</style>\n",
       "<table border=\"1\" class=\"dataframe\">\n",
       "  <thead>\n",
       "    <tr style=\"text-align: right;\">\n",
       "      <th></th>\n",
       "      <th>JULY2019MR</th>\n",
       "      <th>AUGUST2019MR</th>\n",
       "      <th>SEPTEMBER2019MR</th>\n",
       "      <th>OCTOBER2019MR</th>\n",
       "      <th>NOVEMBER2019MR</th>\n",
       "      <th>DECEMBER2019MR</th>\n",
       "      <th>JANUARY2020MR</th>\n",
       "      <th>FEBRUARY2020MR</th>\n",
       "      <th>MARCH2020MR</th>\n",
       "      <th>APRIL2020MR</th>\n",
       "      <th>MAY2020MR</th>\n",
       "      <th>JUNE2020MR</th>\n",
       "    </tr>\n",
       "  </thead>\n",
       "  <tbody>\n",
       "    <tr>\n",
       "      <th>0</th>\n",
       "      <td>200000.0</td>\n",
       "      <td>760000.0</td>\n",
       "      <td>560000.0</td>\n",
       "      <td>400000.0</td>\n",
       "      <td>120000.0</td>\n",
       "      <td>227927.0</td>\n",
       "      <td>419082.0</td>\n",
       "      <td>0.0</td>\n",
       "      <td>638364.0</td>\n",
       "      <td>359728.0</td>\n",
       "      <td>627351.0</td>\n",
       "      <td>1667129.0</td>\n",
       "    </tr>\n",
       "    <tr>\n",
       "      <th>1</th>\n",
       "      <td>0.0</td>\n",
       "      <td>0.0</td>\n",
       "      <td>0.0</td>\n",
       "      <td>0.0</td>\n",
       "      <td>0.0</td>\n",
       "      <td>0.0</td>\n",
       "      <td>0.0</td>\n",
       "      <td>0.0</td>\n",
       "      <td>0.0</td>\n",
       "      <td>0.0</td>\n",
       "      <td>0.0</td>\n",
       "      <td>0.0</td>\n",
       "    </tr>\n",
       "    <tr>\n",
       "      <th>2</th>\n",
       "      <td>0.0</td>\n",
       "      <td>0.0</td>\n",
       "      <td>0.0</td>\n",
       "      <td>0.0</td>\n",
       "      <td>0.0</td>\n",
       "      <td>0.0</td>\n",
       "      <td>0.0</td>\n",
       "      <td>0.0</td>\n",
       "      <td>0.0</td>\n",
       "      <td>0.0</td>\n",
       "      <td>0.0</td>\n",
       "      <td>0.0</td>\n",
       "    </tr>\n",
       "    <tr>\n",
       "      <th>3</th>\n",
       "      <td>960000.0</td>\n",
       "      <td>760000.0</td>\n",
       "      <td>520000.0</td>\n",
       "      <td>320000.0</td>\n",
       "      <td>80000.0</td>\n",
       "      <td>139994.0</td>\n",
       "      <td>158207.0</td>\n",
       "      <td>0.0</td>\n",
       "      <td>181076.0</td>\n",
       "      <td>76658.0</td>\n",
       "      <td>117012.0</td>\n",
       "      <td>404444.0</td>\n",
       "    </tr>\n",
       "    <tr>\n",
       "      <th>4</th>\n",
       "      <td>1080000.0</td>\n",
       "      <td>880000.0</td>\n",
       "      <td>640000.0</td>\n",
       "      <td>440000.0</td>\n",
       "      <td>240000.0</td>\n",
       "      <td>160000.0</td>\n",
       "      <td>41372.0</td>\n",
       "      <td>0.0</td>\n",
       "      <td>156015.0</td>\n",
       "      <td>101065.0</td>\n",
       "      <td>210960.0</td>\n",
       "      <td>518418.0</td>\n",
       "    </tr>\n",
       "    <tr>\n",
       "      <th>5</th>\n",
       "      <td>1840000.0</td>\n",
       "      <td>360000.0</td>\n",
       "      <td>760000.0</td>\n",
       "      <td>520000.0</td>\n",
       "      <td>200000.0</td>\n",
       "      <td>200000.0</td>\n",
       "      <td>68725.0</td>\n",
       "      <td>0.0</td>\n",
       "      <td>120062.0</td>\n",
       "      <td>113228.0</td>\n",
       "      <td>222766.0</td>\n",
       "      <td>531823.0</td>\n",
       "    </tr>\n",
       "  </tbody>\n",
       "</table>\n",
       "</div>"
      ],
      "text/plain": [
       "   JULY2019MR  AUGUST2019MR  SEPTEMBER2019MR  OCTOBER2019MR  NOVEMBER2019MR  \\\n",
       "0    200000.0      760000.0         560000.0       400000.0        120000.0   \n",
       "1         0.0           0.0              0.0            0.0             0.0   \n",
       "2         0.0           0.0              0.0            0.0             0.0   \n",
       "3    960000.0      760000.0         520000.0       320000.0         80000.0   \n",
       "4   1080000.0      880000.0         640000.0       440000.0        240000.0   \n",
       "5   1840000.0      360000.0         760000.0       520000.0        200000.0   \n",
       "\n",
       "   DECEMBER2019MR  JANUARY2020MR  FEBRUARY2020MR  MARCH2020MR  APRIL2020MR  \\\n",
       "0        227927.0       419082.0             0.0     638364.0     359728.0   \n",
       "1             0.0            0.0             0.0          0.0          0.0   \n",
       "2             0.0            0.0             0.0          0.0          0.0   \n",
       "3        139994.0       158207.0             0.0     181076.0      76658.0   \n",
       "4        160000.0        41372.0             0.0     156015.0     101065.0   \n",
       "5        200000.0        68725.0             0.0     120062.0     113228.0   \n",
       "\n",
       "   MAY2020MR  JUNE2020MR  \n",
       "0   627351.0   1667129.0  \n",
       "1        0.0         0.0  \n",
       "2        0.0         0.0  \n",
       "3   117012.0    404444.0  \n",
       "4   210960.0    518418.0  \n",
       "5   222766.0    531823.0  "
      ]
     },
     "execution_count": 105,
     "metadata": {},
     "output_type": "execute_result"
    }
   ],
   "source": []
  },
  {
   "cell_type": "code",
   "execution_count": 111,
   "id": "e93fdeb4-1e2e-41bb-b67e-81ff96827b45",
   "metadata": {},
   "outputs": [],
   "source": [
    "os.chdir(r\"C:\\Users\\rpan92\\Documents\\GitHub\\2022_Working_Directory\\Tower Makeup\")\n",
    "with pd.ExcelWriter('water.xlsx') as writer:  \n",
    "    df_softwater.to_excel(writer, sheet_name='Sheet_2')"
   ]
  },
  {
   "cell_type": "code",
   "execution_count": 112,
   "id": "76a381ed-7aaa-4103-a673-9b3c288b70d3",
   "metadata": {},
   "outputs": [
    {
     "name": "stdout",
     "output_type": "stream",
     "text": [
      "67    1667129\n",
      "70     404444\n",
      "71     518418\n",
      "72     531823\n",
      "Name: 11, dtype: object\n"
     ]
    }
   ],
   "source": [
    "os.chdir(r\"V:\\Facilities Operations\\UTILITIES METER READINGS\\Utilreadings\\UTILITIES 2020\")\n",
    "BookNames=[\"JULY2019MR\",\"AUGUST2019MR\",\"SEPTEMBER2019MR\",\"OCTOBER2019MR\",\"NOVEMBER2019MR\",\"DECEMBER2019MR\",\"JANUARY2020MR\",\"FEBRUARY2020MR\",\"MARCH2020MR\",\"APRIL2020MR\",\"MAY2020MR\",\"JUNE2020MR\"]\n",
    "BookNames\n",
    "\n",
    "softwater=np.zeros([12,4])\n",
    "softwater=pd.DataFrame(softwater)\n",
    "\n",
    "soft_skid_reading=pd.read_excel(bookname,sheet_name=\"UTILITY WORKSHEET\",header=None)\n",
    "\n",
    "softwater=soft_skid_reading.iloc[[67,70,71,72],11]\n",
    "print(softwater)"
   ]
  },
  {
   "cell_type": "code",
   "execution_count": 113,
   "id": "e0538154-9030-4cbc-b0b9-cc02f8308198",
   "metadata": {},
   "outputs": [
    {
     "data": {
      "text/plain": [
       "67    1667129\n",
       "70     404444\n",
       "71     518418\n",
       "72     531823\n",
       "Name: 11, dtype: object"
      ]
     },
     "execution_count": 113,
     "metadata": {},
     "output_type": "execute_result"
    }
   ],
   "source": [
    "softwater"
   ]
  },
  {
   "cell_type": "code",
   "execution_count": 114,
   "id": "3824e674-a0d8-46bc-8b21-797d6c6cd406",
   "metadata": {},
   "outputs": [
    {
     "data": {
      "text/plain": [
       "67    1667129\n",
       "70     404444\n",
       "71     518418\n",
       "72     531823\n",
       "Name: 11, dtype: object"
      ]
     },
     "execution_count": 114,
     "metadata": {},
     "output_type": "execute_result"
    }
   ],
   "source": [
    "softwater"
   ]
  },
  {
   "cell_type": "code",
   "execution_count": null,
   "id": "89f514a3-a26a-470e-acc0-2c09ffb78f51",
   "metadata": {},
   "outputs": [],
   "source": []
  }
 ],
 "metadata": {
  "kernelspec": {
   "display_name": "Python 3 (ipykernel)",
   "language": "python",
   "name": "python3"
  },
  "language_info": {
   "codemirror_mode": {
    "name": "ipython",
    "version": 3
   },
   "file_extension": ".py",
   "mimetype": "text/x-python",
   "name": "python",
   "nbconvert_exporter": "python",
   "pygments_lexer": "ipython3",
   "version": "3.9.7"
  }
 },
 "nbformat": 4,
 "nbformat_minor": 5
}
